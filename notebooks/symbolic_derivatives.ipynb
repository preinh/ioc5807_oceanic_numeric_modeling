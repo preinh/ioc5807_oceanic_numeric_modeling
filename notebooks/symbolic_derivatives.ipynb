{
 "cells": [
  {
   "cell_type": "markdown",
   "metadata": {},
   "source": [
    "# Finite Differences - Derivatives\n",
    "\n",
    "http://docs.sympy.org/latest/special_topics/finite_diff_derivatives.html"
   ]
  },
  {
   "cell_type": "code",
   "execution_count": 1,
   "metadata": {},
   "outputs": [],
   "source": [
    "from __future__ import print_function\n",
    "from sympy import *\n",
    "\n",
    "# from IPython.display import display\n",
    "init_printing(use_latex='mathjax')"
   ]
  },
  {
   "cell_type": "code",
   "execution_count": 2,
   "metadata": {},
   "outputs": [
    {
     "data": {
      "text/latex": [
       "$$\\left[\\begin{matrix}F_{i}\\\\F_{i+1}\\\\F_{i+2}\\end{matrix}\\right]$$"
      ],
      "text/plain": [
       "⎡ F_{i} ⎤\n",
       "⎢       ⎥\n",
       "⎢F_{i+1}⎥\n",
       "⎢       ⎥\n",
       "⎣F_{i+2}⎦"
      ]
     },
     "metadata": {},
     "output_type": "display_data"
    },
    {
     "data": {
      "text/latex": [
       "$$\\left[\\begin{matrix}1 & 0 & 0\\\\1 & h & \\frac{h^{2}}{2}\\\\1 & 2 h & 2 h^{2}\\end{matrix}\\right]$$"
      ],
      "text/plain": [
       "⎡1   0    0  ⎤\n",
       "⎢            ⎥\n",
       "⎢          2 ⎥\n",
       "⎢         h  ⎥\n",
       "⎢1   h    ── ⎥\n",
       "⎢         2  ⎥\n",
       "⎢            ⎥\n",
       "⎢           2⎥\n",
       "⎣1  2⋅h  2⋅h ⎦"
      ]
     },
     "metadata": {},
     "output_type": "display_data"
    },
    {
     "data": {
      "text/latex": [
       "$$\\left[\\begin{matrix}1 & 0 & 0\\\\- \\frac{3}{2 h} & \\frac{2}{h} & - \\frac{1}{2 h}\\\\\\frac{1}{h^{2}} & - \\frac{2}{h^{2}} & \\frac{1}{h^{2}}\\end{matrix}\\right]$$"
      ],
      "text/plain": [
       "⎡ 1    0    0 ⎤\n",
       "⎢             ⎥\n",
       "⎢-3    2   -1 ⎥\n",
       "⎢───   ─   ───⎥\n",
       "⎢2⋅h   h   2⋅h⎥\n",
       "⎢             ⎥\n",
       "⎢1    -2   1  ⎥\n",
       "⎢──   ───  ── ⎥\n",
       "⎢ 2     2   2 ⎥\n",
       "⎣h     h   h  ⎦"
      ]
     },
     "metadata": {},
     "output_type": "display_data"
    },
    {
     "data": {
      "text/latex": [
       "$$\\left[\\begin{matrix}F_{i}\\\\\\frac{2 F_{i+1}}{h} - \\frac{F_{i+2}}{2 h} - \\frac{3 F_{i}}{2 h}\\\\- \\frac{2 F_{i+1}}{h^{2}} + \\frac{F_{i+2}}{h^{2}} + \\frac{F_{i}}{h^{2}}\\end{matrix}\\right]$$"
      ],
      "text/plain": [
       "⎡            F_{i}            ⎤\n",
       "⎢                             ⎥\n",
       "⎢2⋅F_{i+1}   F_{i+2}   3⋅F_{i}⎥\n",
       "⎢───────── - ─────── - ───────⎥\n",
       "⎢    h         2⋅h       2⋅h  ⎥\n",
       "⎢                             ⎥\n",
       "⎢  2⋅F_{i+1}   F_{i+2}   F_{i}⎥\n",
       "⎢- ───────── + ─────── + ─────⎥\n",
       "⎢       2          2        2 ⎥\n",
       "⎣      h          h        h  ⎦"
      ]
     },
     "metadata": {},
     "output_type": "display_data"
    },
    {
     "data": {
      "text/latex": [
       "$$\\frac{1}{2 h} \\left(4 F_{i+1} - F_{i+2} - 3 F_{i}\\right)$$"
      ],
      "text/plain": [
       "4⋅F_{i+1} - F_{i+2} - 3⋅F_{i}\n",
       "─────────────────────────────\n",
       "             2⋅h             "
      ]
     },
     "metadata": {},
     "output_type": "display_data"
    }
   ],
   "source": [
    "x, x0, h = symbols('x, x_0, h')\n",
    "Fi, Fip1, Fip2 = symbols('F_{i}, F_{i+1}, F_{i+2}')\n",
    "n = 3 # there are the coefficients c_0=Fi, c_1=dF/dx, c_2=d**2F/dx**2\n",
    "c = symbols('c:3')\n",
    "\n",
    "def P(x, x0, c, n):\n",
    "    return sum( ((1/factorial(i))*c[i] * (x-x0)**i for i in range(n)) )\n",
    "\n",
    "R = Matrix([[Fi], [Fip1], [Fip2]])\n",
    "\n",
    "m11 = P(x0 , x0, c, n).diff(c[0])\n",
    "m12 = P(x0 , x0, c, n).diff(c[1])\n",
    "m13 = P(x0 , x0, c, n).diff(c[2])\n",
    "\n",
    "m21 = P(x0+h, x0, c, n).diff(c[0])\n",
    "m22 = P(x0+h, x0, c, n).diff(c[1])\n",
    "m23 = P(x0+h, x0, c, n).diff(c[2])\n",
    "\n",
    "m31 = P(x0+2*h, x0, c, n).diff(c[0])\n",
    "m32 = P(x0+2*h, x0, c, n).diff(c[1])\n",
    "m33 = P(x0+2*h, x0, c, n).diff(c[2])\n",
    "\n",
    "M = Matrix([[m11, m12, m13], \n",
    "            [m21, m22, m23], \n",
    "            [m31, m32, m33]])\n",
    "\n",
    "X =  M.inv() * R\n",
    "\n",
    "display(R, M, M.inv(), X, together(X[1]))"
   ]
  },
  {
   "cell_type": "code",
   "execution_count": 3,
   "metadata": {},
   "outputs": [
    {
     "data": {
      "text/latex": [
       "$$\\left[\\begin{matrix}F_{i}\\\\F_{i-1}\\\\F_{i+1}\\end{matrix}\\right]$$"
      ],
      "text/plain": [
       "⎡ F_{i} ⎤\n",
       "⎢       ⎥\n",
       "⎢F_{i-1}⎥\n",
       "⎢       ⎥\n",
       "⎣F_{i+1}⎦"
      ]
     },
     "metadata": {},
     "output_type": "display_data"
    },
    {
     "data": {
      "text/latex": [
       "$$\\left[\\begin{matrix}1 & 0 & 0\\\\1 & - h & \\frac{h^{2}}{2}\\\\1 & h & \\frac{h^{2}}{2}\\end{matrix}\\right]$$"
      ],
      "text/plain": [
       "⎡1  0   0 ⎤\n",
       "⎢         ⎥\n",
       "⎢        2⎥\n",
       "⎢       h ⎥\n",
       "⎢1  -h  ──⎥\n",
       "⎢       2 ⎥\n",
       "⎢         ⎥\n",
       "⎢        2⎥\n",
       "⎢       h ⎥\n",
       "⎢1  h   ──⎥\n",
       "⎣       2 ⎦"
      ]
     },
     "metadata": {},
     "output_type": "display_data"
    },
    {
     "data": {
      "text/latex": [
       "$$\\left[\\begin{matrix}1 & 0 & 0\\\\0 & - \\frac{1}{2 h} & \\frac{1}{2 h}\\\\- \\frac{2}{h^{2}} & \\frac{1}{h^{2}} & \\frac{1}{h^{2}}\\end{matrix}\\right]$$"
      ],
      "text/plain": [
       "⎡ 1    0    0 ⎤\n",
       "⎢             ⎥\n",
       "⎢     -1    1 ⎥\n",
       "⎢ 0   ───  ───⎥\n",
       "⎢     2⋅h  2⋅h⎥\n",
       "⎢             ⎥\n",
       "⎢-2   1    1  ⎥\n",
       "⎢───  ──   ── ⎥\n",
       "⎢  2   2    2 ⎥\n",
       "⎣ h   h    h  ⎦"
      ]
     },
     "metadata": {},
     "output_type": "display_data"
    },
    {
     "data": {
      "text/latex": [
       "$$\\left[\\begin{matrix}F_{i}\\\\\\frac{F_{i+1}}{2 h} - \\frac{F_{i-1}}{2 h}\\\\\\frac{F_{i+1}}{h^{2}} + \\frac{F_{i-1}}{h^{2}} - \\frac{2 F_{i}}{h^{2}}\\end{matrix}\\right]$$"
      ],
      "text/plain": [
       "⎡           F_{i}           ⎤\n",
       "⎢                           ⎥\n",
       "⎢     F_{i+1}   F_{i-1}     ⎥\n",
       "⎢     ─────── - ───────     ⎥\n",
       "⎢       2⋅h       2⋅h       ⎥\n",
       "⎢                           ⎥\n",
       "⎢F_{i+1}   F_{i-1}   2⋅F_{i}⎥\n",
       "⎢─────── + ─────── - ───────⎥\n",
       "⎢    2         2         2  ⎥\n",
       "⎣   h         h         h   ⎦"
      ]
     },
     "metadata": {},
     "output_type": "display_data"
    },
    {
     "data": {
      "text/latex": [
       "$$\\frac{F_{i+1} - F_{i-1}}{2 h}$$"
      ],
      "text/plain": [
       "F_{i+1} - F_{i-1}\n",
       "─────────────────\n",
       "       2⋅h       "
      ]
     },
     "metadata": {},
     "output_type": "display_data"
    }
   ],
   "source": [
    "from __future__ import print_function\n",
    "from sympy import *\n",
    "\n",
    "x, x0, h = symbols('x, x_i, h')\n",
    "Fi, Fip1, Fip2 = symbols('F_{i}, F_{i-1}, F_{i+1}')\n",
    "n = 3 # there are the coefficients c_0=Fi, c_1=dF/dx, c_2=d**2F/dx**2\n",
    "c = symbols('c:3')\n",
    "\n",
    "def P(x, x0, c, n):\n",
    "    return sum( ((1/factorial(i))*c[i] * (x-x0)**i for i in range(n)) )\n",
    "\n",
    "R = Matrix([[Fi], [Fip1], [Fip2]])\n",
    "\n",
    "m11 = P(x0 , x0, c, n).diff(c[0])\n",
    "m12 = P(x0 , x0, c, n).diff(c[1])\n",
    "m13 = P(x0 , x0, c, n).diff(c[2])\n",
    "\n",
    "m21 = P(x0-h, x0, c, n).diff(c[0])\n",
    "m22 = P(x0-h, x0, c, n).diff(c[1])\n",
    "m23 = P(x0-h, x0, c, n).diff(c[2])\n",
    "\n",
    "m31 = P(x0+h, x0, c, n).diff(c[0])\n",
    "m32 = P(x0+h, x0, c, n).diff(c[1])\n",
    "m33 = P(x0+h, x0, c, n).diff(c[2])\n",
    "\n",
    "M = Matrix([[m11, m12, m13], \n",
    "            [m21, m22, m23], \n",
    "            [m31, m32, m33]])\n",
    "\n",
    "X =  M.inv() * R\n",
    "\n",
    "display(R, M, M.inv(), X, together(X[1]))"
   ]
  },
  {
   "cell_type": "code",
   "execution_count": null,
   "metadata": {
    "collapsed": true
   },
   "outputs": [],
   "source": []
  }
 ],
 "metadata": {
  "kernelspec": {
   "display_name": "Python 2",
   "language": "python",
   "name": "python2"
  },
  "language_info": {
   "codemirror_mode": {
    "name": "ipython",
    "version": 2
   },
   "file_extension": ".py",
   "mimetype": "text/x-python",
   "name": "python",
   "nbconvert_exporter": "python",
   "pygments_lexer": "ipython2",
   "version": "2.7.14"
  }
 },
 "nbformat": 4,
 "nbformat_minor": 2
}
